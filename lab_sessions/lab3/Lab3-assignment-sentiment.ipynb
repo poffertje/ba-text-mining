{
 "cells": [
  {
   "cell_type": "markdown",
   "metadata": {},
   "source": [
    "# Lab3 - Assignment Sentiment"
   ]
  },
  {
   "cell_type": "markdown",
   "metadata": {},
   "source": [
    "Copyright: Vrije Universiteit Amsterdam, Faculty of Humanities, CLTL"
   ]
  },
  {
   "cell_type": "markdown",
   "metadata": {},
   "source": [
    "This notebook describes the LAB-2 assignment of the Text Mining course. It is about sentiment analysis.\n",
    "\n",
    "The aims of the assignment are:\n",
    "* Learn how to run a rule-based sentiment analysis module (VADER)\n",
    "* Learn how to run a machine learning sentiment analysis module (Scikit-Learn/ Naive Bayes)\n",
    "* Learn how to run scikit-learn metrics for the quantitative evaluation\n",
    "* Learn how to perform and interpret a quantitative evaluation of the outcomes of the tools (in terms of Precision, Recall, and F<sub>1</sub>)\n",
    "* Learn how to evaluate the results qualitatively (by examining the data) \n",
    "* Get insight into differences between the two applied methods\n",
    "* Get insight into the effects of using linguistic preprocessing\n",
    "* Be able to describe differences between the two methods in terms of their results\n",
    "* Get insight into issues when applying these methods across different  domains\n",
    "\n",
    "In this assignment, you are going to create your own gold standard set from 50 tweets. You will the VADER and scikit-learn classifiers to these tweets and evaluate the results by using evaluation metrics and inspecting the data.\n",
    "\n",
    "We recommend you go through the notebooks in the following order:\n",
    "* **Read the assignment (see below)**\n",
    "* **Lab3.2-Sentiment-analysis-with-VADER.ipynb**\n",
    "* **Lab3.3-Sentiment-analysis.with-scikit-learn.ipynb**\n",
    "* **Answer the questions of the assignment (see below) using the provided notebooks and submit**\n",
    "\n",
    "In this assignment you are asked to perform both quantitative evaluations and error analyses:\n",
    "* a quantitative evaluation concerns the scores (Precision, Recall, and F<sub>1</sub>) provided by scikit's classification_report. It includes the scores per category, as well as micro and macro averages. Discuss whether the scores are balanced or not between the different categories (positive, negative, neutral) and between precision and recall. Discuss the shortcomings (if any) of the classifier based on these scores\n",
    "* an error analysis regarding the misclassifications of the classifier. It involves going through the texts and trying to understand what has gone wrong. It servers to get insight in what could be done to improve the performance of the classifier. Do you observe patterns in misclassifications?  Discuss why these errors are made and propose ways to solve them."
   ]
  },
  {
   "cell_type": "markdown",
   "metadata": {},
   "source": [
    "## Credits\n",
    "The notebooks in this block have been originally created by [Marten Postma](https://martenpostma.github.io) and [Isa Maks](https://research.vu.nl/en/persons/e-maks). Adaptations were made by [Filip Ilievski](http://ilievski.nl)."
   ]
  },
  {
   "cell_type": "markdown",
   "metadata": {},
   "source": [
    "## Part I: VADER assignments\n",
    "\n",
    "\n",
    "### Preparation (nothing to submit):\n",
    "To be able to answer the VADER questions you need to know how the tool works. \n",
    "* Read more about the VADER tool in [this blog](http://t-redactyl.io/blog/2017/04/using-vader-to-handle-sentiment-analysis-with-social-media-text.html).  \n",
    "* VADER provides 4 scores (positive, negative, neutral, compound). Be sure to understand what they mean and how they are calculated.\n",
    "* VADER uses rules to handle linguistic phenomena such as negation and intensification. Be sure to understand which rules are used, how they work, and why they are important.\n",
    "* VADER makes use of a sentiment lexicon. Have a look at the lexicon. Be sure to understand which information can be found there (lemma?, wordform?, part-of-speech?, polarity value?, word meaning?) What do all scores mean? https://github.com/cjhutto/vaderSentiment/blob/master/vaderSentiment/vader_lexicon.txt) \n"
   ]
  },
  {
   "cell_type": "markdown",
   "metadata": {},
   "source": [
    "### [3.5 points] Question1:\n",
    "\n",
    "Regard the following sentences and their output as given by VADER. Regard sentences 1 to 7, and explain the outcome **for each sentence**. Take into account both the rules applied by VADER and the lexicon that is used. You will find that some of the results are reasonable, but others are not. Explain what is going wrong or not when correct and incorrect results are produced. \n",
    "\n",
    "```\n",
    "INPUT SENTENCE 1 I love apples\n",
    "VADER OUTPUT {'neg': 0.0, 'neu': 0.192, 'pos': 0.808, 'compound': 0.6369}\n",
    "\n",
    "INPUT SENTENCE 2 I don't love apples\n",
    "VADER OUTPUT {'neg': 0.627, 'neu': 0.373, 'pos': 0.0, 'compound': -0.5216}\n",
    "\n",
    "INPUT SENTENCE 3 I love apples :-)\n",
    "VADER OUTPUT {'neg': 0.0, 'neu': 0.133, 'pos': 0.867, 'compound': 0.7579}\n",
    "\n",
    "INPUT SENTENCE 4 These houses are ruins\n",
    "VADER OUTPUT {'neg': 0.492, 'neu': 0.508, 'pos': 0.0, 'compound': -0.4404}\n",
    "\n",
    "INPUT SENTENCE 5 These houses are certainly not considered ruins\n",
    "VADER OUTPUT {'neg': 0.0, 'neu': 0.51, 'pos': 0.49, 'compound': 0.5867}\n",
    "\n",
    "INPUT SENTENCE 6 He lies in the chair in the garden\n",
    "VADER OUTPUT {'neg': 0.286, 'neu': 0.714, 'pos': 0.0, 'compound': -0.4215}\n",
    "\n",
    "INPUT SENTENCE 7 This house is like any house\n",
    "VADER OUTPUT {'neg': 0.0, 'neu': 0.667, 'pos': 0.333, 'compound': 0.3612}\n",
    "```"
   ]
  },
  {
   "cell_type": "markdown",
   "metadata": {},
   "source": [
    "\n",
    "<br>\n",
    "\n",
    "<b>Answers</b>\n",
    "\n",
    "* Sentence 1: Contains no negative words with 'neg' label resulting in a 0.0 negative score. The rest of the sentence is either neutral or positive, resulting in a positive compound score.\n",
    "\n",
    "* Sentence 2: 'don't' adds a negative connotation to the overall sentence, because of it 63% of the sentence is seen as negative. However, the sentence in itself does not imply negative feelings, it just expresses one's opinion which is more likely to be considered neutral by a human expert.\n",
    "\n",
    "* Sentence 3: Higher positive compound score than the one of sentence 1. This is most likely due to emoticon ':-)' which is considered positive in the VADER lexicon with a 1.3 score.\n",
    "\n",
    "* Sentence 4: 'ruins' in this sentence does not necessarily has a negative context, it rather accesses the constructional state of the houses without any explicit emotions. VADER does not take into account the context of the sentence, but the combined sentiment score of individual words, where ruins has a score of -1.9 in the VADER lexicon.\n",
    "\n",
    "* Sentence 5: The sentence from the previous bullet point now includes a negative clause 'not' in front of the 'ruins' resulting in a reversed sentiment score of 1.9. Because of this, the sentence now has a positive compound score.\n",
    "\n",
    "* Sentence 6: Contains no positive words with 'pos' label which results in a 0.0 positive score. The sentence only has neutral or negative scores, which results in a negative compound score. However, this sentence does not necessarily imply a negative connotation. The negative connotation is likely to be due to the word 'lies', which has various meaning to it. Does not take the context into account.\n",
    "\n",
    "* Sentence 7: The sentence has a negative score of 0.0 which means that it contains no negative words. The sentence has mostly a neutral score, being twice the score of the positive score. This also results in a positive compound score. The scores seem to fit the sentence fairly well since the sentence is indeed quite neutral. The slight positive score may have occured from the word \"like\" in the sentence."
   ]
  },
  {
   "cell_type": "markdown",
   "metadata": {},
   "source": [
    "### [Points: 2.5] Exercise 2: Collecting 50 tweets for evaluation\n",
    "Collect 50 tweets. Try to find tweets that are interesting for sentiment analysis, e.g., very positive, neutral, and negative tweets. These could be your own tweets (typed in) or collected from the Twitter stream.\n",
    "\n",
    "We will store the tweets in the file **my_tweets.json** (use a text editor to edit).\n",
    "For each tweet, you should insert:\n",
    "* sentiment analysis label: negative | neutral | positive (this you determine yourself, this is not done by a computer)\n",
    "* the text of the tweet\n",
    "* the Tweet-URL\n",
    "\n",
    "from:\n",
    "```\n",
    "    \"1\": {\n",
    "        \"sentiment_label\": \"\",\n",
    "        \"text_of_tweet\": \"\",\n",
    "        \"tweet_url\": \"\",\n",
    "```\n",
    "to:\n",
    "```\n",
    "\"1\": {\n",
    "        \"sentiment_label\": \"positive\",\n",
    "        \"text_of_tweet\": \"All across America people chose to get involved, get engaged and stand up. Each of us can make a difference, and all of us ought to try. So go keep changing the world in 2018.\",\n",
    "        \"tweet_url\" : \"https://twitter.com/BarackObama/status/946775615893655552\",\n",
    "    },\n",
    "```"
   ]
  },
  {
   "cell_type": "markdown",
   "metadata": {},
   "source": [
    "You can load your tweets with human annotation in the following way."
   ]
  },
  {
   "cell_type": "code",
   "execution_count": 16,
   "metadata": {},
   "outputs": [],
   "source": [
    "import json"
   ]
  },
  {
   "cell_type": "code",
   "execution_count": 17,
   "metadata": {},
   "outputs": [],
   "source": [
    "my_tweets = json.load(open('my_tweets.json'))"
   ]
  },
  {
   "cell_type": "code",
   "execution_count": 18,
   "metadata": {},
   "outputs": [
    {
     "name": "stdout",
     "output_type": "stream",
     "text": [
      "1 {'sentiment_label': 'negative', 'text_of_tweet': 'Whoever started this is ridiculous. Putin is an authoritarian criminal putting his own citizens at war with Ukraine. End Putin Regime and stand with Ukraine', 'tweet_url': 'https://twitter.com/winnie_LaLisa/status/1499348443667615746?s=20&t=q-bEiPGrxb2aQf5F7hn9Sw'}\n"
     ]
    }
   ],
   "source": [
    "for id_, tweet_info in my_tweets.items():\n",
    "    print(id_, tweet_info)\n",
    "    break"
   ]
  },
  {
   "cell_type": "markdown",
   "metadata": {},
   "source": [
    "### [5 points] Question 3:\n",
    "\n",
    "Run VADER on your own tweets (see function **run_vader** from notebook **Lab2-Sentiment-analysis-using-VADER.ipynb**). You can use the code snippet below this explanation as a starting point. \n",
    "* [2.5 points] a. Perform a quantitative evaluation. Explain the different scores, and explain which scores are most relevant and why.\n",
    "* [2.5 points] b. Perform an error analysis: select 10 positive, 10 negative and 10 neutral tweets that are not correctly classified and try to understand why. Refer to the VADER-rules and the VADER-lexicon. Of course, if there are less than 10 errors for a category, you only have to check those. For example, if there are only 5 errors for positive tweets, you just describe those."
   ]
  },
  {
   "cell_type": "code",
   "execution_count": 107,
   "metadata": {},
   "outputs": [],
   "source": [
    "from nltk.sentiment.vader import SentimentIntensityAnalyzer"
   ]
  },
  {
   "cell_type": "code",
   "execution_count": 108,
   "metadata": {},
   "outputs": [],
   "source": [
    "vader_model = SentimentIntensityAnalyzer()"
   ]
  },
  {
   "cell_type": "code",
   "execution_count": 109,
   "metadata": {},
   "outputs": [],
   "source": [
    "import spacy\n",
    "nlp = spacy.load(\"en_core_web_sm\") # 'en_core_web_sm'"
   ]
  },
  {
   "cell_type": "code",
   "execution_count": 110,
   "metadata": {},
   "outputs": [],
   "source": [
    "def run_vader(textual_unit, \n",
    "              lemmatize=False, \n",
    "              parts_of_speech_to_consider=None,\n",
    "              verbose=0):\n",
    "    \"\"\"\n",
    "    Run VADER on a sentence from spacy\n",
    "    \n",
    "    :param str textual unit: a textual unit, e.g., sentence, sentences (one string)\n",
    "    (by looping over doc.sents)\n",
    "    :param bool lemmatize: If True, provide lemmas to VADER instead of words\n",
    "    :param set parts_of_speech_to_consider:\n",
    "    -None or empty set: all parts of speech are provided\n",
    "    -non-empty set: only these parts of speech are considered.\n",
    "    :param int verbose: if set to 1, information is printed\n",
    "    about input and output\n",
    "    \n",
    "    :rtype: dict\n",
    "    :return: vader output dict\n",
    "    \"\"\"\n",
    "    doc = nlp(textual_unit)\n",
    "        \n",
    "    input_to_vader = []\n",
    "\n",
    "    for sent in doc.sents:\n",
    "        for token in sent:\n",
    "\n",
    "            to_add = token.text\n",
    "\n",
    "            if lemmatize:\n",
    "                to_add = token.lemma_\n",
    "\n",
    "                if to_add == '-PRON-': \n",
    "                    to_add = token.text\n",
    "\n",
    "            if parts_of_speech_to_consider:\n",
    "                if token.pos_ in parts_of_speech_to_consider:\n",
    "                    input_to_vader.append(to_add) \n",
    "            else:\n",
    "                input_to_vader.append(to_add)\n",
    "\n",
    "    scores = vader_model.polarity_scores(' '.join(input_to_vader))\n",
    "    \n",
    "    if verbose >= 1:\n",
    "        print()\n",
    "        print('INPUT SENTENCE', sent)\n",
    "        print('INPUT TO VADER', input_to_vader)\n",
    "        print('VADER OUTPUT', scores)\n",
    "\n",
    "    return scores, input_to_vader"
   ]
  },
  {
   "cell_type": "code",
   "execution_count": 111,
   "metadata": {},
   "outputs": [],
   "source": [
    "def vader_output_to_label(vader_output):\n",
    "    \"\"\"\n",
    "    map vader output e.g.,\n",
    "    {'neg': 0.0, 'neu': 0.0, 'pos': 1.0, 'compound': 0.4215}\n",
    "    to one of the following values:\n",
    "    a) positive float -> 'positive'\n",
    "    b) 0.0 -> 'neutral'\n",
    "    c) negative float -> 'negative'\n",
    "    \n",
    "    :param dict vader_output: output dict from vader\n",
    "    \n",
    "    :rtype: str\n",
    "    :return: 'negative' | 'neutral' | 'positive'\n",
    "    \"\"\"\n",
    "    compound = vader_output['compound']\n",
    "    \n",
    "    if compound < 0:\n",
    "        return 'negative'\n",
    "    elif compound == 0.0:\n",
    "        return 'neutral'\n",
    "    elif compound > 0.0:\n",
    "        return 'positive'\n",
    "    \n",
    "assert vader_output_to_label( {'neg': 0.0, 'neu': 0.0, 'pos': 1.0, 'compound': 0.0}) == 'neutral'\n",
    "assert vader_output_to_label( {'neg': 0.0, 'neu': 0.0, 'pos': 1.0, 'compound': 0.01}) == 'positive'\n",
    "assert vader_output_to_label( {'neg': 0.0, 'neu': 0.0, 'pos': 1.0, 'compound': -0.01}) == 'negative'"
   ]
  },
  {
   "cell_type": "code",
   "execution_count": 119,
   "metadata": {},
   "outputs": [
    {
     "name": "stdout",
     "output_type": "stream",
     "text": [
      "              precision    recall  f1-score   support\n",
      "\n",
      "    negative       0.80      0.67      0.73        18\n",
      "     neutral       0.50      0.38      0.43        13\n",
      "    positive       0.60      0.79      0.68        19\n",
      "\n",
      "    accuracy                           0.64        50\n",
      "   macro avg       0.63      0.61      0.61        50\n",
      "weighted avg       0.65      0.64      0.63        50\n",
      "\n"
     ]
    }
   ],
   "source": [
    "from sklearn.metrics import classification_report\n",
    "\n",
    "vader_input = []\n",
    "all_vader_output = []\n",
    "verbose_output = []\n",
    "gold = []\n",
    "\n",
    "\n",
    "# settings (to change for different experiments)\n",
    "to_lemmatize = True \n",
    "pos = set()\n",
    "\n",
    "for id_, tweet_info in my_tweets.items():\n",
    "    the_tweet = tweet_info['text_of_tweet']\n",
    "    vader_output, input_to_vader = run_vader(the_tweet) # run vader\n",
    "    vader_label = vader_output_to_label(vader_output) # convert vader output to category\n",
    "    \n",
    "    all_vader_output.append(vader_label)\n",
    "    verbose_output.append(vader_output)\n",
    "    vader_input.append(input_to_vader)\n",
    "    gold.append(tweet_info['sentiment_label'])\n",
    "    \n",
    "# use scikit-learn's classification report\n",
    "print(classification_report(gold, all_vader_output))"
   ]
  },
  {
   "cell_type": "code",
   "execution_count": 125,
   "metadata": {},
   "outputs": [
    {
     "name": "stdout",
     "output_type": "stream",
     "text": [
      "INPUT:\n",
      "['Russian', 'aircraft', 'bombed', 'a', 'residential', 'neighborhood', 'in', 'Chernihiv', '.', 'There', 'were', 'no', 'military', 'installations', 'nearby', '.', 'Only', 'civilians', 'who', 'had', 'gone', 'out', 'to', 'buy', 'groceries', '.', 'The', 'whole', 'world', 'should', 'know', 'about', 'this', 'war', 'crime', '.'].\n",
      "OUTPUT:\n",
      "{'neg': 0.269, 'neu': 0.731, 'pos': 0.0, 'compound': -0.884}.\n",
      "TARGET/PREDICTED: neutral/negative\n",
      "\n",
      "INPUT:\n",
      "['When', 'the', 'united', 'state', 'of', 'America', 'did', 'this', 'in', 'afghanistan', ',', 'libya', ',', 'iraq', 'did', 'anybody', 'condem', 'it', 'where', 'there', 'no', 'civilians', 'in', 'those', 'buildings', 'they', 'bombed', '?', '?', '?', 'Why', 'is', 'Ukraine', 'so', 'special', '?', '?', '?', '?', '?', '?', '?', '?', '?', '?', '?'].\n",
      "OUTPUT:\n",
      "{'neg': 0.06, 'neu': 0.741, 'pos': 0.199, 'compound': 0.7228}.\n",
      "TARGET/PREDICTED: negative/positive\n",
      "\n",
      "INPUT:\n",
      "['Russia', 'give', 'them', 'the', 'test', 'of', 'their', 'own', 'medicine'].\n",
      "OUTPUT:\n",
      "{'neg': 0.0, 'neu': 1.0, 'pos': 0.0, 'compound': 0.0}.\n",
      "TARGET/PREDICTED: negative/neutral\n",
      "\n",
      "INPUT:\n",
      "['When', '@JM_Scindia', 'was', 'lying', 'to', 'Indian', 'students', ',', 'the', 'mayor', 'of', 'Romania', 'interrupted', 'him', 'and', 'asked', 'him', 'to', 'speak', 'the', 'truth', '.', 'That', 'his', 'government', 'has', 'made', 'all', 'the', 'arrangements', 'for', 'the', 'children', 'to', 'live', 'and', 'eat', '.'].\n",
      "OUTPUT:\n",
      "{'neg': 0.14, 'neu': 0.802, 'pos': 0.058, 'compound': -0.5106}.\n",
      "TARGET/PREDICTED: neutral/negative\n",
      "\n",
      "INPUT:\n",
      "['Hello', 'and', 'good', 'morning', '.', 'From', 'today', 'all', 'tweets', 'will', 'be', 'in', 'English', '.'].\n",
      "OUTPUT:\n",
      "{'neg': 0.0, 'neu': 0.791, 'pos': 0.209, 'compound': 0.4404}.\n",
      "TARGET/PREDICTED: neutral/positive\n",
      "\n",
      "INPUT:\n",
      "['I', 'love', 'how', '#', 'CancelCulture', 'is', 'so', 'engrained', 'in', 'our', 'society', 'that', 'we', 'try', 'to', 'use', 'it', 'against', 'warlords', 'invading', 'countries', '.', 'Like', 'he', '#', 'gives2fucks', '.', 'IвЂ', '™', 'm', 'sure', 'those', 'Ukrainians', 'are', 'grateful', 'youвЂ', '™', 're', 'not', 'drinking', 'Russian', 'vodka', '.'].\n",
      "OUTPUT:\n",
      "{'neg': 0.0, 'neu': 0.714, 'pos': 0.286, 'compound': 0.9001}.\n",
      "TARGET/PREDICTED: negative/positive\n",
      "\n",
      "INPUT:\n",
      "['Who', 'knew', 'it', 'would', 'be', 'this', 'easy', 'for', '#', 'Singapore', 'and', '#', 'SouthKorea', 'to', 'enact', 'sanctions', 'against', 'Russia', '?', 'All', 'my', '#', 'Myanmar', 'folks', '(', 'and', 'all', 'from', \"'\", 'uncivilized', \"'\", 'part', 'of', 'the', 'world', ')', ',', 'all', 'we', 'need', 'now', 'are', 'bleaching', 'creams', ',', 'blonde', 'hair', 'dyes', ',', 'and', 'a', 'bit', 'of', 'contact', 'lens', '.', 'You', \"'re\", 'with', 'me', '?'].\n",
      "OUTPUT:\n",
      "{'neg': 0.0, 'neu': 0.925, 'pos': 0.075, 'compound': 0.5768}.\n",
      "TARGET/PREDICTED: negative/positive\n",
      "\n",
      "INPUT:\n",
      "['small', 'account', 'matters', '.', 'BTS', 'fans', 'drop', 'your', 'handles', 'to', 'gain', '200', 'mutuals'].\n",
      "OUTPUT:\n",
      "{'neg': 0.135, 'neu': 0.577, 'pos': 0.288, 'compound': 0.34}.\n",
      "TARGET/PREDICTED: neutral/positive\n",
      "\n",
      "INPUT:\n",
      "['This', 'crocheted', 'baby', 'looks', 'like', 'Caroline', 'Manzo'].\n",
      "OUTPUT:\n",
      "{'neg': 0.0, 'neu': 0.706, 'pos': 0.294, 'compound': 0.3612}.\n",
      "TARGET/PREDICTED: neutral/positive\n",
      "\n",
      "INPUT:\n",
      "['Government', 'tax', 'credits', 'for', 'electric', 'car', 'purchases', 'contribute', 'substantially', 'to', 'Tesla', \"'s\", 'growth', '.'].\n",
      "OUTPUT:\n",
      "{'neg': 0.0, 'neu': 0.683, 'pos': 0.317, 'compound': 0.6249}.\n",
      "TARGET/PREDICTED: neutral/positive\n",
      "\n",
      "INPUT:\n",
      "['Hypocrisy', '#', 'Ukraine', '#', 'RussianUkrainianWar', ' ', '#', 'russia'].\n",
      "OUTPUT:\n",
      "{'neg': 0.0, 'neu': 1.0, 'pos': 0.0, 'compound': 0.0}.\n",
      "TARGET/PREDICTED: negative/neutral\n",
      "\n",
      "INPUT:\n",
      "['This', 'is', 'so', 'true', '!', '#', 'RussianUkrainianWar'].\n",
      "OUTPUT:\n",
      "{'neg': 0.0, 'neu': 0.506, 'pos': 0.494, 'compound': 0.6005}.\n",
      "TARGET/PREDICTED: neutral/positive\n",
      "\n",
      "INPUT:\n",
      "['This', 'is', 'the', 'true', 'face', 'of', 'America', 'and', 'Biden', 'is', 'blaming', 'Putin', '.', 'Every', 'country', 'has', 'a', 'right', 'to', 'think', 'about', 'out', 'their', 'interest', '.', ' ', '#', 'istandwithrussia', '#', 'IStandWithPutin', '#', 'BidenIsALaughingstock', '#', 'RussianUkrainianWar'].\n",
      "OUTPUT:\n",
      "{'neg': 0.1, 'neu': 0.719, 'pos': 0.181, 'compound': 0.3818}.\n",
      "TARGET/PREDICTED: neutral/positive\n",
      "\n",
      "INPUT:\n",
      "['Ahhh', '!', '!', '!', '!', '!', 'After', 'so', 'many', 'days', 'finally', 'it', 'came', 'in', 'my', 'tr*nding', 'list', '..', 'FOCUS', 'ON', 'FATEJO'].\n",
      "OUTPUT:\n",
      "{'neg': 0.0, 'neu': 1.0, 'pos': 0.0, 'compound': 0.0}.\n",
      "TARGET/PREDICTED: positive/neutral\n",
      "\n",
      "INPUT:\n",
      "['crying', 'over', 'these', 'replies', 'even', 'if', 'it', \"'s\", 'not', 'for', 'me', 'but', 'still', '...'].\n",
      "OUTPUT:\n",
      "{'neg': 0.136, 'neu': 0.864, 'pos': 0.0, 'compound': -0.2617}.\n",
      "TARGET/PREDICTED: positive/negative\n",
      "\n",
      "INPUT:\n",
      "['the', 'way', 'u', 'feel', 'about', 'a', 'situation', 'is', \"n't\", 'dramatic', ',', 'do', \"n't\", 'let', 'others', 'invalidate', 'it', '.'].\n",
      "OUTPUT:\n",
      "{'neg': 0.0, 'neu': 1.0, 'pos': 0.0, 'compound': 0.0}.\n",
      "TARGET/PREDICTED: positive/neutral\n",
      "\n",
      "INPUT:\n",
      "['do', 'Not', 'ask', 'me', 'about', 'anything'].\n",
      "OUTPUT:\n",
      "{'neg': 0.0, 'neu': 1.0, 'pos': 0.0, 'compound': 0.0}.\n",
      "TARGET/PREDICTED: positive/neutral\n",
      "\n",
      "INPUT:\n",
      "['i', 'canвЂ', '™', 't', 'live', 'like', 'this'].\n",
      "OUTPUT:\n",
      "{'neg': 0.0, 'neu': 0.545, 'pos': 0.455, 'compound': 0.3612}.\n",
      "TARGET/PREDICTED: negative/positive\n",
      "\n",
      "MISLABELLED COUNT - negative: 6, positive: 4, neutral: 8\n"
     ]
    }
   ],
   "source": [
    "\n",
    "n_counter = 0\n",
    "p_counter = 0\n",
    "neutral_counter = 0\n",
    "\n",
    "zip_list = list(zip(all_vader_output, gold))\n",
    "\n",
    "for idx, item in enumerate(zip_list):\n",
    "    if item[0] != item[1]:\n",
    "        print('INPUT:\\n{}.\\nOUTPUT:\\n{}.\\nTARGET/PREDICTED: {}/{}\\n'.format(vader_input[idx], verbose_output[idx], gold[idx], all_vader_output[idx]))\n",
    "        if item[1] == 'neutral':\n",
    "            neutral_counter += 1\n",
    "        elif item[1] == 'positive':\n",
    "            p_counter += 1\n",
    "        else:\n",
    "            n_counter += 1\n",
    "\n",
    "print('MISLABELLED COUNT - negative: {}, positive: {}, neutral: {}'.format(n_counter, p_counter, neutral_counter))"
   ]
  },
  {
   "cell_type": "markdown",
   "metadata": {},
   "source": [
    "<b>Answer</b>"
   ]
  },
  {
   "cell_type": "markdown",
   "metadata": {},
   "source": [
    "Part a:\n",
    "<br>\n",
    "<b>Precision:</b> Precision is the number of True Positives divided by the number of True Positives and False Positives. In other words, precision shows how useful the output of the model actually is. \n",
    "<br>\n",
    "<b>Recall:</b> Recall is the number of True Positives divided by the number of True Positives and False Negatives. In other words, recall shows how complete the output is.\n",
    "<br>\n",
    "<b>F1-score:</b> F1-score is the harmonic mean or weighted average of precision and recall, taking into account both false positives and false negativesinto account. A high f1-score would tell us that there is high precision and recall. The f1-score is highly relevant since it is used to counter class imbalance, which is present in our dataset since there is an unequal amount of positive, negative and neutral tweets.  In this case, 'negative' and 'positive' have relatively high f1-scores (0,73,0.68 respectively) as compared to 'neutral'. \n",
    "<br>\n",
    "<b>Support:</b> Support is the count of positive, negative, and neutral tweets in the data. We can see that there is some class imbalance, since the number of each type of tweet is unequal\n",
    "<br>\n",
    "<b>Part b:</b>\n",
    "<br>\n",
    "Based on the output above, there are 8 neutral tweets that are incorrectly classified. This is due to the fact that a tweet is only classfied as 'neutral' if the text does not contain any positive or negative words.\n",
    "\n",
    "Moreover, there are only 4 misclassified positive tweets. 3 of them were incorrectly classified as neutral. This is caused by the lack of use 'positive' words in the sentence even though the overall sentiment of the sentence is rather positive. The 4th tweet was incorrectly classified as negative because it contained negative words such as 'crying' even though the tweet itself was positive.\n",
    "\n",
    "Finally, there were 6 misclassified negative tweets."
   ]
  },
  {
   "cell_type": "markdown",
   "metadata": {},
   "source": [
    "### [4 points] Question 4:\n",
    "Run VADER on the set of airline tweets with the following settings:\n",
    "\n",
    "* Run VADER (as it is) on the set of airline tweets \n",
    "* Run VADER on the set of airline tweets after having lemmatized the text\n",
    "* Run VADER on the set of airline tweets with only adjectives\n",
    "* Run VADER on the set of airline tweets with only adjectives and after having lemmatized the text\n",
    "* Run VADER on the set of airline tweets with only nouns\n",
    "* Run VADER on the set of airline tweets with only nouns and after having lemmatized the text\n",
    "* Run VADER on the set of airline tweets with only verbs\n",
    "* Run VADER on the set of airline tweets with only verbs and after having lemmatized the text\n",
    "\n",
    "* [1 point] a. Generate for all separate experiments the classification report, i.e., Precision, Recall, and F<sub>1</sub> scores per category as well as micro and macro averages. **Use a different code cell (or multiple code cells) for each experiment.**\n",
    "* [3 points] b. Compare the scores and explain what they tell you.\n",
    "* - Does lemmatisation help? Explain why or why not.\n",
    "* - Are all parts of speech equally important for sentiment analysis? Explain why or why not."
   ]
  },
  {
   "cell_type": "code",
   "execution_count": 129,
   "metadata": {},
   "outputs": [
    {
     "name": "stdout",
     "output_type": "stream",
     "text": [
      "path: c:\\Users\\lmps\\github\\ba-text-mining\\lab_sessions\\lab3\\airlinetweets\n",
      "this will print True if the folder exists: True\n"
     ]
    }
   ],
   "source": [
    "import pathlib\n",
    "from sklearn.datasets import load_files\n",
    "\n",
    "cwd = pathlib.Path.cwd()\n",
    "airline_tweets_folder = cwd.joinpath('airlinetweets')\n",
    "print('path:', airline_tweets_folder)\n",
    "print('this will print True if the folder exists:', \n",
    "      airline_tweets_folder.exists())\n",
    "\n",
    "# loading all files as training data.\n",
    "airline_tweets_train = load_files(str(airline_tweets_folder))\n",
    "\n",
    "data = airline_tweets_train.data\n",
    "labels = airline_tweets_train.target"
   ]
  },
  {
   "cell_type": "code",
   "execution_count": 130,
   "metadata": {},
   "outputs": [],
   "source": [
    "def vader_output_to_int_label(vader_output):\n",
    "    \"\"\"\n",
    "    map vader output e.g.,\n",
    "    {'neg': 0.0, 'neu': 0.0, 'pos': 1.0, 'compound': 0.4215}\n",
    "    to one of the following values:\n",
    "    a) positive float -> 'positive'\n",
    "    b) 0.0 -> 'neutral'\n",
    "    c) negative float -> 'negative'\n",
    "    \n",
    "    :param dict vader_output: output dict from vader\n",
    "    \n",
    "    :rtype: str\n",
    "    :return: 'negative' | 'neutral' | 'positive'\n",
    "    \"\"\"\n",
    "    compound = vader_output['compound']\n",
    "    \n",
    "    if compound < 0:\n",
    "        return 0\n",
    "    elif compound == 0.0:\n",
    "        return 1\n",
    "    elif compound > 0.0:\n",
    "        return 2\n",
    "    \n",
    "assert vader_output_to_int_label( {'neg': 0.0, 'neu': 0.0, 'pos': 1.0, 'compound': 0.0}) == 1\n",
    "assert vader_output_to_int_label( {'neg': 0.0, 'neu': 0.0, 'pos': 1.0, 'compound': 0.01}) == 2\n",
    "assert vader_output_to_int_label( {'neg': 0.0, 'neu': 0.0, 'pos': 1.0, 'compound': -0.01}) == 0"
   ]
  },
  {
   "cell_type": "code",
   "execution_count": 132,
   "metadata": {},
   "outputs": [
    {
     "name": "stdout",
     "output_type": "stream",
     "text": [
      "              precision    recall  f1-score   support\n",
      "\n",
      "           0       0.80      0.51      0.63      1750\n",
      "           1       0.60      0.51      0.55      1515\n",
      "           2       0.56      0.88      0.68      1490\n",
      "\n",
      "    accuracy                           0.63      4755\n",
      "   macro avg       0.65      0.63      0.62      4755\n",
      "weighted avg       0.66      0.63      0.62      4755\n",
      "\n"
     ]
    }
   ],
   "source": [
    "all_vader_output_air = []\n",
    "\n",
    "for tweet in data:\n",
    "    vader_output, _ = run_vader(str(tweet)) # run vader\n",
    "    vader_label = vader_output_to_int_label(vader_output) # convert vader output to category\n",
    "    \n",
    "    all_vader_output_air.append(vader_label)\n",
    "\n",
    "print(classification_report(labels, all_vader_output_air))"
   ]
  },
  {
   "cell_type": "code",
   "execution_count": 133,
   "metadata": {},
   "outputs": [
    {
     "name": "stdout",
     "output_type": "stream",
     "text": [
      "              precision    recall  f1-score   support\n",
      "\n",
      "           0       0.79      0.52      0.63      1750\n",
      "           1       0.60      0.49      0.54      1515\n",
      "           2       0.55      0.87      0.68      1490\n",
      "\n",
      "    accuracy                           0.62      4755\n",
      "   macro avg       0.65      0.63      0.61      4755\n",
      "weighted avg       0.65      0.62      0.62      4755\n",
      "\n"
     ]
    }
   ],
   "source": [
    "all_vader_output_air = []\n",
    "\n",
    "for tweet in data:\n",
    "    vader_output, _ = run_vader(str(tweet), lemmatize = True) # run vader\n",
    "    vader_label = vader_output_to_int_label(vader_output) # convert vader output to category\n",
    "    \n",
    "    all_vader_output_air.append(vader_label)\n",
    "\n",
    "print(classification_report(labels, all_vader_output_air))"
   ]
  },
  {
   "cell_type": "code",
   "execution_count": 134,
   "metadata": {},
   "outputs": [
    {
     "name": "stdout",
     "output_type": "stream",
     "text": [
      "              precision    recall  f1-score   support\n",
      "\n",
      "           0       0.87      0.22      0.35      1750\n",
      "           1       0.41      0.89      0.56      1515\n",
      "           2       0.67      0.44      0.53      1490\n",
      "\n",
      "    accuracy                           0.50      4755\n",
      "   macro avg       0.65      0.52      0.48      4755\n",
      "weighted avg       0.66      0.50      0.47      4755\n",
      "\n"
     ]
    }
   ],
   "source": [
    "# Adjectives\n",
    "all_vader_output_air = []\n",
    "\n",
    "for tweet in data:\n",
    "    vader_output, _ = run_vader(str(tweet), parts_of_speech_to_consider={'ADJ'}) # run vader\n",
    "    vader_label = vader_output_to_int_label(vader_output) # convert vader output to category\n",
    "    \n",
    "    all_vader_output_air.append(vader_label)\n",
    "\n",
    "print(classification_report(labels, all_vader_output_air))"
   ]
  },
  {
   "cell_type": "code",
   "execution_count": 135,
   "metadata": {},
   "outputs": [
    {
     "name": "stdout",
     "output_type": "stream",
     "text": [
      "              precision    recall  f1-score   support\n",
      "\n",
      "           0       0.87      0.22      0.35      1750\n",
      "           1       0.41      0.89      0.56      1515\n",
      "           2       0.67      0.44      0.53      1490\n",
      "\n",
      "    accuracy                           0.50      4755\n",
      "   macro avg       0.65      0.52      0.48      4755\n",
      "weighted avg       0.66      0.50      0.47      4755\n",
      "\n"
     ]
    }
   ],
   "source": [
    "#Adjectives + Lemmatisation\n",
    "all_vader_output_air = []\n",
    "\n",
    "for tweet in data:\n",
    "    vader_output, _ = run_vader(str(tweet), lemmatize=True, parts_of_speech_to_consider={'ADJ'}) # run vader\n",
    "    vader_label = vader_output_to_int_label(vader_output) # convert vader output to category\n",
    "    \n",
    "    all_vader_output_air.append(vader_label)\n",
    "\n",
    "print(classification_report(labels, all_vader_output_air))"
   ]
  },
  {
   "cell_type": "code",
   "execution_count": 136,
   "metadata": {},
   "outputs": [
    {
     "name": "stdout",
     "output_type": "stream",
     "text": [
      "              precision    recall  f1-score   support\n",
      "\n",
      "           0       0.71      0.14      0.23      1750\n",
      "           1       0.36      0.82      0.50      1515\n",
      "           2       0.54      0.35      0.43      1490\n",
      "\n",
      "    accuracy                           0.42      4755\n",
      "   macro avg       0.54      0.44      0.39      4755\n",
      "weighted avg       0.55      0.42      0.38      4755\n",
      "\n"
     ]
    }
   ],
   "source": [
    "#Nouns\n",
    "all_vader_output_air = []\n",
    "\n",
    "for tweet in data:\n",
    "    vader_output, _ = run_vader(str(tweet), parts_of_speech_to_consider={'NOUN'}) # run vader\n",
    "    vader_label = vader_output_to_int_label(vader_output) # convert vader output to category\n",
    "    \n",
    "    all_vader_output_air.append(vader_label)\n",
    "\n",
    "print(classification_report(labels, all_vader_output_air))"
   ]
  },
  {
   "cell_type": "code",
   "execution_count": 137,
   "metadata": {},
   "outputs": [
    {
     "name": "stdout",
     "output_type": "stream",
     "text": [
      "              precision    recall  f1-score   support\n",
      "\n",
      "           0       0.70      0.15      0.25      1750\n",
      "           1       0.36      0.81      0.50      1515\n",
      "           2       0.53      0.34      0.42      1490\n",
      "\n",
      "    accuracy                           0.42      4755\n",
      "   macro avg       0.53      0.43      0.39      4755\n",
      "weighted avg       0.54      0.42      0.38      4755\n",
      "\n"
     ]
    }
   ],
   "source": [
    "#Nouns + Lemmatisation\n",
    "all_vader_output_air = []\n",
    "\n",
    "for tweet in data:\n",
    "    vader_output, _ = run_vader(str(tweet), lemmatize=True, parts_of_speech_to_consider={'NOUN'}) # run vader\n",
    "    vader_label = vader_output_to_int_label(vader_output) # convert vader output to category\n",
    "    \n",
    "    all_vader_output_air.append(vader_label)\n",
    "\n",
    "print(classification_report(labels, all_vader_output_air))"
   ]
  },
  {
   "cell_type": "code",
   "execution_count": 138,
   "metadata": {},
   "outputs": [
    {
     "name": "stdout",
     "output_type": "stream",
     "text": [
      "              precision    recall  f1-score   support\n",
      "\n",
      "           0       0.78      0.28      0.41      1750\n",
      "           1       0.38      0.81      0.52      1515\n",
      "           2       0.57      0.34      0.43      1490\n",
      "\n",
      "    accuracy                           0.47      4755\n",
      "   macro avg       0.58      0.48      0.45      4755\n",
      "weighted avg       0.59      0.47      0.45      4755\n",
      "\n"
     ]
    }
   ],
   "source": [
    "#Verbs\n",
    "all_vader_output_air = []\n",
    "\n",
    "for tweet in data:\n",
    "    vader_output, _ = run_vader(str(tweet), parts_of_speech_to_consider={'VERB'}) # run vader\n",
    "    vader_label = vader_output_to_int_label(vader_output) # convert vader output to category\n",
    "    \n",
    "    all_vader_output_air.append(vader_label)\n",
    "\n",
    "print(classification_report(labels, all_vader_output_air))"
   ]
  },
  {
   "cell_type": "code",
   "execution_count": 139,
   "metadata": {},
   "outputs": [
    {
     "name": "stdout",
     "output_type": "stream",
     "text": [
      "              precision    recall  f1-score   support\n",
      "\n",
      "           0       0.75      0.29      0.42      1750\n",
      "           1       0.38      0.79      0.51      1515\n",
      "           2       0.56      0.35      0.43      1490\n",
      "\n",
      "    accuracy                           0.47      4755\n",
      "   macro avg       0.56      0.48      0.45      4755\n",
      "weighted avg       0.57      0.47      0.45      4755\n",
      "\n"
     ]
    }
   ],
   "source": [
    "#Verbs + Lemmatisation\n",
    "all_vader_output_air = []\n",
    "\n",
    "for tweet in data:\n",
    "    vader_output, _ = run_vader(str(tweet), lemmatize=True, parts_of_speech_to_consider={'VERB'}) # run vader\n",
    "    vader_label = vader_output_to_int_label(vader_output) # convert vader output to category\n",
    "    \n",
    "    all_vader_output_air.append(vader_label)\n",
    "\n",
    "print(classification_report(labels, all_vader_output_air))"
   ]
  },
  {
   "cell_type": "markdown",
   "metadata": {},
   "source": [
    "<b>Answer</b>\n",
    "\n",
    "\n",
    "\n",
    "\n",
    "\n",
    "\n",
    "\n",
    "\n",
    "Something"
   ]
  },
  {
   "cell_type": "markdown",
   "metadata": {},
   "source": [
    "## Part II: scikit-learn assignments\n",
    "### [4 points] Question 5\n",
    "Train the scikit-learn classifier (Naive Bayes) using the airline tweets.\n",
    "\n",
    "+ Train the model on the airline tweets with 80% training and 20% test set and default settings (TF-IDF representation, min_df=2)\n",
    "+ Train with different settings:\n",
    "    + with respect to vectorizing: TF-IDF ('airline_tfidf') vs. Bag of words representation ('airline_count') \n",
    "    + with respect to the frequency threshold (min_df). Carry out experiments with increasing values for document frequency (min_df = 2; min_df = 5; min_df =10) \n",
    "* [1 point] a. Generate a classification_report for all experiments\n",
    "* [3 points] b. Look at the results of the experiments with the different settings and try to explain why they differ: \n",
    "    + which category performs best, is this the case for any setting?\n",
    "    + does the frequency threshold affect the scores? Why or why not according to you?"
   ]
  },
  {
   "cell_type": "code",
   "execution_count": 159,
   "metadata": {},
   "outputs": [],
   "source": [
    "import nltk\n",
    "from nltk.corpus import stopwords\n",
    "from sklearn.feature_extraction.text import CountVectorizer\n",
    "from sklearn.feature_extraction.text import TfidfTransformer\n",
    "\n",
    "from sklearn.naive_bayes import MultinomialNB\n",
    "from sklearn.model_selection import train_test_split"
   ]
  },
  {
   "cell_type": "code",
   "execution_count": 160,
   "metadata": {},
   "outputs": [],
   "source": [
    "def get_bag_of_words(input, threshold):\n",
    "    airline_vec = CountVectorizer(min_df = threshold, # If a token appears fewer times than this, across all documents, it will be ignored\n",
    "                                tokenizer = nltk.word_tokenize, # we use the nltk tokenizer\n",
    "                                stop_words = stopwords.words('english')) # stopwords are removed\n",
    "\n",
    "    airline_counts = airline_vec.fit_transform(input.data)\n",
    "    return airline_counts, airline_vec"
   ]
  },
  {
   "cell_type": "code",
   "execution_count": 165,
   "metadata": {},
   "outputs": [],
   "source": [
    "def get_tfidf(input, threshold):\n",
    "    airline_counts, _ = get_bag_of_words(input, threshold)\n",
    "    tfidf_transformer = TfidfTransformer()\n",
    "    airline_tfidf = tfidf_transformer.fit_transform(airline_counts)\n",
    "    return airline_tfidf"
   ]
  },
  {
   "cell_type": "code",
   "execution_count": 166,
   "metadata": {},
   "outputs": [
    {
     "name": "stderr",
     "output_type": "stream",
     "text": [
      "C:\\Users\\lmps\\AppData\\Local\\Programs\\Python\\Python37\\lib\\site-packages\\sklearn\\feature_extraction\\text.py:401: UserWarning: Your stop_words may be inconsistent with your preprocessing. Tokenizing the stop words generated tokens [\"'d\", \"'ll\", \"'re\", \"'s\", \"'ve\", 'could', 'might', 'must', \"n't\", 'need', 'sha', 'wo', 'would'] not in stop_words.\n",
      "  % sorted(inconsistent)\n",
      "C:\\Users\\lmps\\AppData\\Local\\Programs\\Python\\Python37\\lib\\site-packages\\sklearn\\feature_extraction\\text.py:401: UserWarning: Your stop_words may be inconsistent with your preprocessing. Tokenizing the stop words generated tokens [\"'d\", \"'ll\", \"'re\", \"'s\", \"'ve\", 'could', 'might', 'must', \"n't\", 'need', 'sha', 'wo', 'would'] not in stop_words.\n",
      "  % sorted(inconsistent)\n",
      "C:\\Users\\lmps\\AppData\\Local\\Programs\\Python\\Python37\\lib\\site-packages\\sklearn\\feature_extraction\\text.py:401: UserWarning: Your stop_words may be inconsistent with your preprocessing. Tokenizing the stop words generated tokens [\"'d\", \"'ll\", \"'re\", \"'s\", \"'ve\", 'could', 'might', 'must', \"n't\", 'need', 'sha', 'wo', 'would'] not in stop_words.\n",
      "  % sorted(inconsistent)\n"
     ]
    }
   ],
   "source": [
    "bag_2, vectorizer_2 = get_bag_of_words(airline_tweets_train, 2)\n",
    "bag_5, _ = get_bag_of_words(airline_tweets_train, 5)\n",
    "bag_10, _  = get_bag_of_words(airline_tweets_train, 10)\n",
    "\n",
    "tfidf_2 = get_tfidf(airline_tweets_train, 2)\n",
    "tfidf_5 = get_tfidf(airline_tweets_train, 5)\n",
    "tfidf_10 = get_tfidf(airline_tweets_train, 10)"
   ]
  },
  {
   "cell_type": "code",
   "execution_count": 168,
   "metadata": {},
   "outputs": [],
   "source": [
    "def get_model(representation, verbose = False):\n",
    "    docs_train, docs_test, y_train, y_test = train_test_split(\n",
    "        representation, # the representation model\n",
    "        airline_tweets_train.target, # the category values for each tweet \n",
    "        test_size = 0.20 # we use 80% for training and 20% for development\n",
    "        ) \n",
    "\n",
    "    clf = MultinomialNB().fit(docs_train, y_train)\n",
    "    y_pred = clf.predict(docs_test)\n",
    "\n",
    "    if verbose == True:\n",
    "        print(classification_report(y_test, y_pred))\n",
    "    \n",
    "    return clf, y_pred"
   ]
  },
  {
   "cell_type": "code",
   "execution_count": 170,
   "metadata": {},
   "outputs": [
    {
     "name": "stdout",
     "output_type": "stream",
     "text": [
      "              precision    recall  f1-score   support\n",
      "\n",
      "           0       0.82      0.92      0.86       349\n",
      "           1       0.82      0.67      0.74       291\n",
      "           2       0.84      0.87      0.85       311\n",
      "\n",
      "    accuracy                           0.83       951\n",
      "   macro avg       0.83      0.82      0.82       951\n",
      "weighted avg       0.83      0.83      0.82       951\n",
      "\n"
     ]
    }
   ],
   "source": [
    "clf, _ = get_model(bag_2, True)"
   ]
  },
  {
   "cell_type": "code",
   "execution_count": 171,
   "metadata": {},
   "outputs": [
    {
     "name": "stdout",
     "output_type": "stream",
     "text": [
      "              precision    recall  f1-score   support\n",
      "\n",
      "           0       0.85      0.92      0.88       364\n",
      "           1       0.80      0.73      0.76       270\n",
      "           2       0.88      0.86      0.87       317\n",
      "\n",
      "    accuracy                           0.85       951\n",
      "   macro avg       0.84      0.84      0.84       951\n",
      "weighted avg       0.85      0.85      0.85       951\n",
      "\n"
     ]
    }
   ],
   "source": [
    "_ = get_model(bag_5, True)"
   ]
  },
  {
   "cell_type": "code",
   "execution_count": 172,
   "metadata": {},
   "outputs": [
    {
     "name": "stdout",
     "output_type": "stream",
     "text": [
      "              precision    recall  f1-score   support\n",
      "\n",
      "           0       0.82      0.90      0.86       338\n",
      "           1       0.84      0.74      0.79       313\n",
      "           2       0.85      0.86      0.86       300\n",
      "\n",
      "    accuracy                           0.84       951\n",
      "   macro avg       0.84      0.84      0.84       951\n",
      "weighted avg       0.84      0.84      0.84       951\n",
      "\n"
     ]
    }
   ],
   "source": [
    "_ = get_model(bag_10, True)"
   ]
  },
  {
   "cell_type": "code",
   "execution_count": 175,
   "metadata": {},
   "outputs": [
    {
     "name": "stdout",
     "output_type": "stream",
     "text": [
      "              precision    recall  f1-score   support\n",
      "\n",
      "           0       0.81      0.91      0.86       331\n",
      "           1       0.85      0.72      0.78       317\n",
      "           2       0.84      0.85      0.84       303\n",
      "\n",
      "    accuracy                           0.83       951\n",
      "   macro avg       0.83      0.83      0.83       951\n",
      "weighted avg       0.83      0.83      0.83       951\n",
      "\n"
     ]
    }
   ],
   "source": [
    "_ = get_model(tfidf_2, True)"
   ]
  },
  {
   "cell_type": "code",
   "execution_count": 176,
   "metadata": {},
   "outputs": [
    {
     "name": "stdout",
     "output_type": "stream",
     "text": [
      "              precision    recall  f1-score   support\n",
      "\n",
      "           0       0.83      0.89      0.86       366\n",
      "           1       0.83      0.75      0.79       274\n",
      "           2       0.87      0.86      0.86       311\n",
      "\n",
      "    accuracy                           0.84       951\n",
      "   macro avg       0.84      0.83      0.84       951\n",
      "weighted avg       0.84      0.84      0.84       951\n",
      "\n"
     ]
    }
   ],
   "source": [
    "_ = get_model(tfidf_5, True)"
   ]
  },
  {
   "cell_type": "code",
   "execution_count": 177,
   "metadata": {},
   "outputs": [
    {
     "name": "stdout",
     "output_type": "stream",
     "text": [
      "              precision    recall  f1-score   support\n",
      "\n",
      "           0       0.83      0.91      0.87       361\n",
      "           1       0.79      0.75      0.77       277\n",
      "           2       0.87      0.80      0.83       313\n",
      "\n",
      "    accuracy                           0.83       951\n",
      "   macro avg       0.83      0.82      0.82       951\n",
      "weighted avg       0.83      0.83      0.83       951\n",
      "\n"
     ]
    }
   ],
   "source": [
    "_ = get_model(tfidf_10, True)"
   ]
  },
  {
   "cell_type": "markdown",
   "metadata": {},
   "source": [
    "<b> Answer </b>"
   ]
  },
  {
   "cell_type": "markdown",
   "metadata": {},
   "source": [
    "### [4 points] Question 6: Inspecting the best scoring features \n",
    "\n",
    "+ Train the scikit-learn classifier (Naive Bayes) model with the following settings (airline tweets 80% training and 20% test;  Bag of words representation ('airline_count'), min_df=2)\n",
    "* [1 point] a. Generate the list of best scoring features per class (see function **important_features_per_class** below) [1 point]\n",
    "* [3 points] b. Look at the lists and consider the following issues: \n",
    "    + [1 point] Which features did you expect for each separate class and why?\n",
    "    + [1 point] Which features did you not expect and why ? \n",
    "    + [1 point] The list contains all kinds of words such as names of airlines, punctuation, numbers and content words (e.g., 'delay' and 'bad'). Which words would you remove or keep when trying to improve the model and why? "
   ]
  },
  {
   "cell_type": "code",
   "execution_count": null,
   "metadata": {},
   "outputs": [],
   "source": [
    "def important_features_per_class(vectorizer,classifier,n=80):\n",
    "    class_labels = classifier.classes_\n",
    "    feature_names =vectorizer.get_feature_names()\n",
    "    topn_class1 = sorted(zip(classifier.feature_count_[0], feature_names),reverse=True)[:n]\n",
    "    topn_class2 = sorted(zip(classifier.feature_count_[1], feature_names),reverse=True)[:n]\n",
    "    topn_class3 = sorted(zip(classifier.feature_count_[2], feature_names),reverse=True)[:n]\n",
    "    print(\"Important words in negative documents\")\n",
    "    for coef, feat in topn_class1:\n",
    "        print(class_labels[0], coef, feat)\n",
    "    print(\"-----------------------------------------\")\n",
    "    print(\"Important words in neutral documents\")\n",
    "    for coef, feat in topn_class2:\n",
    "        print(class_labels[1], coef, feat) \n",
    "    print(\"-----------------------------------------\")\n",
    "    print(\"Important words in positive documents\")\n",
    "    for coef, feat in topn_class3:\n",
    "        print(class_labels[2], coef, feat) \n",
    "\n",
    "# example of how to call from notebook:\n",
    "important_features_per_class(vectorizer_2, clf)"
   ]
  },
  {
   "cell_type": "markdown",
   "metadata": {},
   "source": [
    "### [Optional! (will not  be graded)] Question 7\n",
    "Train the model on airline tweets and test it on your own set of tweets\n",
    "+ Train the model with the following settings (airline tweets 80% training and 20% test;  Bag of words representation ('airline_count'), min_df=2)\n",
    "+ Apply the model on your own set of tweets and generate the classification report\n",
    "* [1 point] a. Carry out a quantitative analysis.\n",
    "* [1 point] b. Carry out an error analysis on 10 correctly and 10 incorrectly classified tweets and discuss them\n",
    "* [2 points] c. Compare the results (cf. classification report) with the results obtained by VADER on the same tweets and discuss the differences."
   ]
  },
  {
   "cell_type": "markdown",
   "metadata": {},
   "source": [
    "### [Optional! (will not be graded)] Question 8: trying to improve the model\n",
    "* [2 points] a. Think of some ways to improve the scikit-learn Naive Bayes model by playing with the settings or applying linguistic preprocessing (e.g., by filtering on part-of-speech, or removing punctuation). Do not change the classifier but continue using the Naive Bayes classifier. Explain what the effects might be of these other settings \n",
    "+ [1 point] b. Apply the model with at least one new setting (train on the airline tweets using 80% training, 20% test) and generate the scores\n",
    "* [1 point] c. Discuss whether the model achieved what you expected."
   ]
  },
  {
   "cell_type": "markdown",
   "metadata": {},
   "source": [
    "## End of this notebook"
   ]
  },
  {
   "cell_type": "code",
   "execution_count": null,
   "metadata": {},
   "outputs": [],
   "source": []
  }
 ],
 "metadata": {
  "kernelspec": {
   "display_name": "Python 3",
   "language": "python",
   "name": "python3"
  },
  "language_info": {
   "codemirror_mode": {
    "name": "ipython",
    "version": 3
   },
   "file_extension": ".py",
   "mimetype": "text/x-python",
   "name": "python",
   "nbconvert_exporter": "python",
   "pygments_lexer": "ipython3",
   "version": "3.7.7"
  }
 },
 "nbformat": 4,
 "nbformat_minor": 4
}
