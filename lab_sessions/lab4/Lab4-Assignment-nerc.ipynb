{
 "cells": [
  {
   "cell_type": "markdown",
   "metadata": {},
   "source": [
    "# Lab4-Assignment about Named Entity Recognition and Classification\n",
    "\n",
    "This notebook describes the assignment of Lab 4 of the text mining course. We assume you have succesfully completed Lab1, Lab2 and Lab3 as welll. Especially Lab2 is important for completing this assignment.\n",
    "\n",
    "**Learning goals**\n",
    "* going from linguistic input format to representing it in a feature space\n",
    "* working with pretrained word embeddings\n",
    "* train a supervised classifier (SVM)\n",
    "* evaluate a supervised classifier (SVM)\n",
    "* learn how to interpret the system output and the evaluation results\n",
    "* be able to propose future improvements based on the observed results\n"
   ]
  },
  {
   "cell_type": "markdown",
   "metadata": {},
   "source": [
    "## Credits\n",
    "This notebook was originally created by [Marten Postma](https://martenpostma.github.io) and [Filip Ilievski](http://ilievski.nl) and adapted by Piek vossen"
   ]
  },
  {
   "cell_type": "markdown",
   "metadata": {},
   "source": [
    "## [Points: 18] Exercise 1 (NERC): Training and evaluating an SVM using CoNLL-2003"
   ]
  },
  {
   "cell_type": "markdown",
   "metadata": {},
   "source": [
    "**[4 point] a) Load the CoNLL-2003 training data using the *ConllCorpusReader* and create for both *train.txt* and *test.txt*:**\n",
    "\n",
    "    [2 points]  -a list of dictionaries representing the features for each training instances, e..g,\n",
    "    ```\n",
    "    [\n",
    "    {'words': 'EU', 'pos': 'NNP'}, \n",
    "    {'words': 'rejects', 'pos': 'VBZ'},\n",
    "    ...\n",
    "    ]\n",
    "    ```\n",
    "\n",
    "    [2 points] -the NERC labels associated with each training instance, e.g.,\n",
    "    dictionaries, e.g.,\n",
    "    ```\n",
    "    [\n",
    "    'B-ORG', \n",
    "    'O',\n",
    "    ....\n",
    "    ]\n",
    "    ```"
   ]
  },
  {
   "cell_type": "code",
   "execution_count": 90,
   "metadata": {},
   "outputs": [],
   "source": [
    "from nltk.corpus.reader import ConllCorpusReader\n",
    "### Adapt the path to point to the CONLL2003 folder on your local machine\n",
    "train = ConllCorpusReader('/Users/lmps/github/ba-text-mining/lab_sessions/lab4/CONLL2003', 'train.txt', ['words', 'pos', 'ignore', 'chunk'])\n",
    "training_features = []\n",
    "training_gold_labels = []\n",
    "\n",
    "for token, pos, ne_label in train.iob_words():\n",
    "   a_dict = {\n",
    "      'words': token, 'pos': pos\n",
    "   }\n",
    "   training_features.append(a_dict)\n",
    "   training_gold_labels.append(ne_label)"
   ]
  },
  {
   "cell_type": "code",
   "execution_count": 91,
   "metadata": {},
   "outputs": [],
   "source": [
    "### Adapt the path to point to the CONLL2003 folder on your local machine\n",
    "test = ConllCorpusReader('/Users/lmps/github/ba-text-mining/lab_sessions/lab4/CONLL2003', 'test.txt', ['words', 'pos', 'ignore', 'chunk'])\n",
    "\n",
    "test_features = []\n",
    "test_gold_labels = []\n",
    "for token, pos, ne_label in test.iob_words():\n",
    "    a_dict = {\n",
    "        'words': token, 'pos': pos\n",
    "    }\n",
    "    test_features.append(a_dict)\n",
    "    test_gold_labels.append(ne_label)"
   ]
  },
  {
   "cell_type": "markdown",
   "metadata": {},
   "source": [
    "**[2 points] b) provide descriptive statistics about the training and test data:**\n",
    "* How many instances are in train and test?\n",
    "* Provide a frequency distribution of the NERC labels, i.e., how many times does each NERC label occur?\n",
    "* Discuss to what extent the training and test data is balanced (equal amount of instances for each NERC label) and to what extent the training and test data differ?\n",
    "\n",
    "Tip: you can use the following `Counter` functionality to generate frequency list of a list:"
   ]
  },
  {
   "cell_type": "code",
   "execution_count": 71,
   "metadata": {},
   "outputs": [
    {
     "name": "stdout",
     "output_type": "stream",
     "text": [
      "How many instances are in train and test?\n",
      "\n",
      "Number of instances in the training data is: 203621\tPercentage is: 81.43015964423968\n",
      "Number of instances in the test data is: 46435\tPercentage is: 100.18569840355761\n",
      "\n",
      "Provide a frequency distribution of the NERC labels\n",
      "\n",
      "test labels are: dict_items([('O', 38323), ('B-LOC', 1668), ('B-PER', 1617), ('I-PER', 1156), ('I-LOC', 257), ('B-MISC', 702), ('I-MISC', 216), ('B-ORG', 1661), ('I-ORG', 835)])\n",
      "train labels are: dict_items([('B-ORG', 6321), ('O', 169578), ('B-MISC', 3438), ('B-PER', 6600), ('I-PER', 4528), ('B-LOC', 7140), ('I-ORG', 3704), ('I-MISC', 1155), ('I-LOC', 1157)])\n",
      "Test Data Instances For Each Label\n",
      "LOC % Test Data 3.7934092924882314\n",
      "PER % Test Data 3.6774237565668284\n",
      "ORG % Test Data 3.77748970912647\n",
      "MISC % Test Data 1.5965067885651905\n",
      "O % Test Data 87.15517045325328\n",
      "\n",
      "Train Data Instances For Each Label\n",
      "LOC % Train Data 3.69800649481813\n",
      "PER % Train Data 3.418325331344489\n",
      "ORG % Train Data 3.273823396883109\n",
      "MISC % Train Data 1.7806367407821748\n",
      "O % Train Data 87.8292080361721\n",
      "\n",
      "The instances for each label is quite similar for both training and test datasets. For both the test and training dataset, about 13% of the total instances are labeled LOC,PER,ORG and MISC, where it is almost equally distributed (~3%) for each label\n"
     ]
    }
   ],
   "source": [
    "from collections import Counter \n",
    "import pandas as pd\n",
    "\n",
    "# How many instances are in train and test?\n",
    "test_len = len(test.iob_words())\n",
    "train_len = len(train.iob_words())\n",
    "print(\"How many instances are in train and test?\\n\")\n",
    "print(\"Number of instances in the training data is: {}\\tPercentage is: {}\\nNumber of instances in the test data is: {}\\tPercentage is: {}\\n\".format(\n",
    "    train_len, train_len/(test_len + train_len) * 100, test_len, test_len/(test_len + train_len) * 100))\n",
    "\n",
    "# Provide a frequency distribution of the NERC labels\n",
    "print(\"Provide a frequency distribution of the NERC labels\\n\")\n",
    "train_labels = Counter(training_gold_labels)\n",
    "test_labels = Counter(test_gold_labels)\n",
    "\n",
    "print(\"test labels are: {}\\ntrain labels are: {}\".format(test_labels.items(), train_labels.items()))\n",
    "test_sum = 38323 + 1668 + 1617 + 702 + 1661\n",
    "train_sum = 6321+169578+3438+ 6600+7140\n",
    "print(\"Test Data Instances For Each Label\")\n",
    "print(\"LOC % Test Data\", ((test_labels['B-LOC']/test_sum) * 100))\n",
    "print(\"PER % Test Data\", ((test_labels['B-PER']/test_sum) * 100))\n",
    "print(\"ORG % Test Data\", ((test_labels['B-ORG']/test_sum) * 100))\n",
    "print(\"MISC % Test Data\", ((test_labels['B-MISC']/test_sum) * 100))\n",
    "print(\"O % Test Data\", ((test_labels['O']/test_sum)) * 100)\n",
    "print()\n",
    "print(\"Train Data Instances For Each Label\")\n",
    "print(\"LOC % Train Data\", ((train_labels['B-LOC']/train_sum) * 100))\n",
    "print(\"PER % Train Data\", ((train_labels['B-PER']/train_sum) * 100))\n",
    "print(\"ORG % Train Data\", ((train_labels['B-ORG']/train_sum) * 100))\n",
    "print(\"MISC % Train Data\", ((train_labels['B-MISC']/train_sum) * 100))\n",
    "print(\"O % Train Data\", ((train_labels['O']/train_sum)) * 100)\n",
    "print()\n",
    "print(\"The instances for each label is quite similar for both training and test datasets. For both the test and training dataset, about 13% of the total instances are labeled LOC,PER,ORG and MISC, where it is almost equally distributed (~3%) for each label\")"
   ]
  },
  {
   "cell_type": "markdown",
   "metadata": {},
   "source": [
    "**[2 points] c) Concatenate the train and test features (the list of dictionaries) into one list. Load it using the *DictVectorizer*. Afterwards, split it back to training and test.**\n",
    "\n",
    "Tip: You’ve concatenated train and test into one list and then you’ve applied the DictVectorizer.\n",
    "The order of the rows is maintained. You can hence use an index (number of training instances) to split the_array back into train and test. Do NOT use: `\n",
    "from sklearn.model_selection import train_test_split` here.\n"
   ]
  },
  {
   "cell_type": "code",
   "execution_count": 94,
   "metadata": {},
   "outputs": [],
   "source": [
    "from sklearn.feature_extraction import DictVectorizer\n",
    "import numpy as np"
   ]
  },
  {
   "cell_type": "code",
   "execution_count": 126,
   "metadata": {},
   "outputs": [
    {
     "name": "stdout",
     "output_type": "stream",
     "text": [
      "(250056, 27361)\n",
      "(203621, 27361)\n",
      "(46435, 27361)\n"
     ]
    }
   ],
   "source": [
    "vec = DictVectorizer()\n",
    "concatenation = training_features + test_features\n",
    "the_array = vec.fit_transform(concatenation)\n",
    "# the_array = np.array(the_array)\n",
    "print(the_array.shape)\n",
    "train = the_array[:len(training_features)]\n",
    "print(train.shape)\n",
    "test = the_array[len(training_features):]\n",
    "#print(test.shape)\n",
    "\n"
   ]
  },
  {
   "cell_type": "markdown",
   "metadata": {},
   "source": [
    "**[4 points] d) Train the SVM using the train features and labels and evaluate on the test data. Provide a classification report (sklearn.metrics.classification_report)**. The train (lin_clf.fit) might take a while. On my computer, it took 1min 53s, which is acceptable. Training models normally takes much longer. If it takes more than 5 minutes, you can use a subset for training. Describe the results:\n",
    "\n",
    "* Which NERC labels does the classifier perform well on? Why do you think this is the case?\n",
    "* Which NERC labels does the classifier perform poorly on? Why do you think this is the case?"
   ]
  },
  {
   "cell_type": "code",
   "execution_count": 97,
   "metadata": {},
   "outputs": [],
   "source": [
    "from sklearn import svm"
   ]
  },
  {
   "cell_type": "code",
   "execution_count": 98,
   "metadata": {},
   "outputs": [],
   "source": [
    "lin_clf = svm.LinearSVC()"
   ]
  },
  {
   "cell_type": "code",
   "execution_count": 108,
   "metadata": {},
   "outputs": [],
   "source": [
    "##### [ YOUR CODE SHOULD GO HERE ]\n",
    "model = lin_clf.fit(train, training_gold_labels)"
   ]
  },
  {
   "cell_type": "code",
   "execution_count": 131,
   "metadata": {},
   "outputs": [
    {
     "name": "stdout",
     "output_type": "stream",
     "text": [
      "              precision    recall  f1-score   support\n",
      "\n",
      "       B-LOC       0.78      0.81      0.79      1592\n",
      "      B-MISC       0.66      0.78      0.72       596\n",
      "       B-ORG       0.52      0.79      0.63      1088\n",
      "       B-PER       0.44      0.86      0.58       821\n",
      "       I-LOC       0.53      0.62      0.57       220\n",
      "      I-MISC       0.59      0.57      0.58       223\n",
      "       I-ORG       0.47      0.70      0.56       555\n",
      "       I-PER       0.87      0.33      0.48      3028\n",
      "           O       0.98      0.98      0.98     38312\n",
      "\n",
      "    accuracy                           0.92     46435\n",
      "   macro avg       0.65      0.72      0.65     46435\n",
      "weighted avg       0.93      0.92      0.92     46435\n",
      "\n"
     ]
    }
   ],
   "source": [
    "from sklearn.metrics import classification_report\n",
    "\n",
    "predicted = model.predict(test)\n",
    "print(classification_report(predicted, test_gold_labels))"
   ]
  },
  {
   "cell_type": "markdown",
   "metadata": {},
   "source": [
    "**[6 points] e) Train a model that uses the embeddings of these words as inputs. Test again on the same data as in 2d. Generate a classification report and compare the results with the classifier you built in 2d.**"
   ]
  },
  {
   "cell_type": "code",
   "execution_count": 129,
   "metadata": {},
   "outputs": [
    {
     "name": "stdout",
     "output_type": "stream",
     "text": [
      "              precision    recall  f1-score   support\n",
      "\n",
      "       B-LOC       0.78      0.81      0.79      1592\n",
      "      B-MISC       0.66      0.78      0.72       596\n",
      "       B-ORG       0.52      0.79      0.63      1088\n",
      "       B-PER       0.44      0.86      0.58       821\n",
      "       I-LOC       0.53      0.62      0.57       220\n",
      "      I-MISC       0.59      0.57      0.58       223\n",
      "       I-ORG       0.47      0.70      0.56       555\n",
      "       I-PER       0.87      0.33      0.48      3028\n",
      "           O       0.98      0.98      0.98     38312\n",
      "\n",
      "    accuracy                           0.92     46435\n",
      "   macro avg       0.65      0.72      0.65     46435\n",
      "weighted avg       0.93      0.92      0.92     46435\n",
      "\n"
     ]
    }
   ],
   "source": []
  },
  {
   "cell_type": "markdown",
   "metadata": {},
   "source": [
    "## [Points: 10] Exercise 2 (NERC): feature inspection using the [Annotated Corpus for Named Entity Recognition](https://www.kaggle.com/abhinavwalia95/entity-annotated-corpus)\n",
    "**[6 points] a. Perform the same steps as in the previous exercise. Make sure you end up for both the training part (*df_train*) and the test part (*df_test*) with:**\n",
    "* the features representation using **DictVectorizer**\n",
    "* the NERC labels in a list\n",
    "\n",
    "Please note that this is the same setup as in the previous exercise:\n",
    "* load both train and test using:\n",
    "    * list of dictionaries for features\n",
    "    * list of NERC labels\n",
    "* combine train and test features in a list and represent them using one hot encoding\n",
    "* train using the training features and NERC labels"
   ]
  },
  {
   "cell_type": "code",
   "execution_count": null,
   "metadata": {},
   "outputs": [],
   "source": [
    "##### Adapt the path to point to your local copy of NERC_datasets\n",
    "path = '/Users/piek/Desktop/ONDERWIJS/data/nerc_datasets/kaggle/ner_v2.csv'\n",
    "kaggle_dataset = pandas.read_csv(path, error_bad_lines=False)"
   ]
  },
  {
   "cell_type": "code",
   "execution_count": null,
   "metadata": {},
   "outputs": [],
   "source": [
    "len(kaggle_dataset)"
   ]
  },
  {
   "cell_type": "markdown",
   "metadata": {},
   "source": []
  },
  {
   "cell_type": "code",
   "execution_count": null,
   "metadata": {},
   "outputs": [],
   "source": [
    "df_train = kaggle_dataset[:100000]\n",
    "df_test = kaggle_dataset[100000:120000]\n",
    "print(len(df_train), len(df_test))"
   ]
  },
  {
   "cell_type": "code",
   "execution_count": null,
   "metadata": {},
   "outputs": [],
   "source": [
    "df_train = kaggle_dataset[:100000]\n",
    "df_test = kaggle_dataset[100000:120000]\n",
    "print(len(df_train), len(df_test))"
   ]
  },
  {
   "cell_type": "markdown",
   "metadata": {},
   "source": [
    "## End of this notebook"
   ]
  }
 ],
 "metadata": {
  "kernelspec": {
   "display_name": "Python 3",
   "language": "python",
   "name": "python3"
  },
  "language_info": {
   "codemirror_mode": {
    "name": "ipython",
    "version": 3
   },
   "file_extension": ".py",
   "mimetype": "text/x-python",
   "name": "python",
   "nbconvert_exporter": "python",
   "pygments_lexer": "ipython3",
   "version": "3.7.7"
  }
 },
 "nbformat": 4,
 "nbformat_minor": 4
}
